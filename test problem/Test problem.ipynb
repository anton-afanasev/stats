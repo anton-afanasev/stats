{
 "cells": [
  {
   "cell_type": "markdown",
   "id": "d2552116",
   "metadata": {},
   "source": [
    "Представь что ты аналитик, который только начал работать в компании. \n",
    "Вчера ты познакомился с командой и менеджером продукта, а сегодня уже погружаешься в работу. \n",
    " \n",
    " \n",
    "Менеджер продукта – Привет! Мы рады что ты с нами и наконец-то сможешь помочь нам с аналитикой. \n",
    "У меня есть первая задача, которая поможет тебе немного разогреться перед тем как мы начнем строить новые гипотезы. \n",
    "Пару недель назад мы выпустили новую версию приложения, где мы исправили момент с заключением пари, раньше у пользователей появлялось много ошибок, на что многие жаловались. \n",
    "АБ тест мы решили не делать, потому что доработка очень важная и определенно мешала пользователям делать ставки. Мы хотели исправить ее как можно быстрее. \n",
    "Можешь посмотреть стали ли пользователи делать больше ставок после обновления и составить отчет в Jupyter notebook? \n",
    " \n",
    "Вот данные, которые выгрузили для меня по пользователям и их ставкам.  \n",
    " \n",
    "user_id - айди пользователя\n",
    "\n",
    "platform - платформа \n",
    "\n",
    "install_date  - дата установки обновления \n",
    "\n",
    "bets_date - дата ставок \n",
    "\n",
    "bets - количество ставок"
   ]
  },
  {
   "cell_type": "code",
   "execution_count": 1,
   "id": "3098c07a",
   "metadata": {},
   "outputs": [],
   "source": [
    "import numpy as np\n",
    "import pandas as pd\n",
    "import matplotlib.pyplot as plt\n",
    "\n",
    "%matplotlib inline"
   ]
  },
  {
   "cell_type": "code",
   "execution_count": 2,
   "id": "64fedb80",
   "metadata": {},
   "outputs": [
    {
     "data": {
      "text/html": [
       "<div>\n",
       "<style scoped>\n",
       "    .dataframe tbody tr th:only-of-type {\n",
       "        vertical-align: middle;\n",
       "    }\n",
       "\n",
       "    .dataframe tbody tr th {\n",
       "        vertical-align: top;\n",
       "    }\n",
       "\n",
       "    .dataframe thead th {\n",
       "        text-align: right;\n",
       "    }\n",
       "</style>\n",
       "<table border=\"1\" class=\"dataframe\">\n",
       "  <thead>\n",
       "    <tr style=\"text-align: right;\">\n",
       "      <th></th>\n",
       "      <th>Unnamed: 0</th>\n",
       "      <th>user_id</th>\n",
       "      <th>platform</th>\n",
       "      <th>install_date</th>\n",
       "      <th>bets_date</th>\n",
       "      <th>bets</th>\n",
       "      <th>bets_dayofyear</th>\n",
       "      <th>bets_weekofyear</th>\n",
       "    </tr>\n",
       "  </thead>\n",
       "  <tbody>\n",
       "    <tr>\n",
       "      <th>0</th>\n",
       "      <td>0</td>\n",
       "      <td>41785284</td>\n",
       "      <td>IOS</td>\n",
       "      <td>2021-04-21</td>\n",
       "      <td>2021-04-13</td>\n",
       "      <td>2</td>\n",
       "      <td>103</td>\n",
       "      <td>15</td>\n",
       "    </tr>\n",
       "    <tr>\n",
       "      <th>1</th>\n",
       "      <td>1</td>\n",
       "      <td>41792465</td>\n",
       "      <td>IOS</td>\n",
       "      <td>2021-04-21</td>\n",
       "      <td>2021-04-13</td>\n",
       "      <td>29</td>\n",
       "      <td>103</td>\n",
       "      <td>15</td>\n",
       "    </tr>\n",
       "    <tr>\n",
       "      <th>2</th>\n",
       "      <td>2</td>\n",
       "      <td>41494466</td>\n",
       "      <td>IOS</td>\n",
       "      <td>2021-03-28</td>\n",
       "      <td>2021-01-04</td>\n",
       "      <td>28</td>\n",
       "      <td>4</td>\n",
       "      <td>1</td>\n",
       "    </tr>\n",
       "    <tr>\n",
       "      <th>3</th>\n",
       "      <td>3</td>\n",
       "      <td>41583452</td>\n",
       "      <td>IOS</td>\n",
       "      <td>2021-02-04</td>\n",
       "      <td>2021-01-04</td>\n",
       "      <td>9</td>\n",
       "      <td>4</td>\n",
       "      <td>1</td>\n",
       "    </tr>\n",
       "    <tr>\n",
       "      <th>4</th>\n",
       "      <td>4</td>\n",
       "      <td>41637532</td>\n",
       "      <td>IOS</td>\n",
       "      <td>2021-07-04</td>\n",
       "      <td>2021-01-04</td>\n",
       "      <td>16</td>\n",
       "      <td>4</td>\n",
       "      <td>1</td>\n",
       "    </tr>\n",
       "    <tr>\n",
       "      <th>...</th>\n",
       "      <td>...</td>\n",
       "      <td>...</td>\n",
       "      <td>...</td>\n",
       "      <td>...</td>\n",
       "      <td>...</td>\n",
       "      <td>...</td>\n",
       "      <td>...</td>\n",
       "      <td>...</td>\n",
       "    </tr>\n",
       "    <tr>\n",
       "      <th>81544</th>\n",
       "      <td>81544</td>\n",
       "      <td>40888496</td>\n",
       "      <td>IOS</td>\n",
       "      <td>2021-01-29</td>\n",
       "      <td>2021-07-02</td>\n",
       "      <td>2</td>\n",
       "      <td>183</td>\n",
       "      <td>26</td>\n",
       "    </tr>\n",
       "    <tr>\n",
       "      <th>81545</th>\n",
       "      <td>81545</td>\n",
       "      <td>41010128</td>\n",
       "      <td>ANDROID</td>\n",
       "      <td>2021-11-02</td>\n",
       "      <td>2021-07-02</td>\n",
       "      <td>0</td>\n",
       "      <td>183</td>\n",
       "      <td>26</td>\n",
       "    </tr>\n",
       "    <tr>\n",
       "      <th>81546</th>\n",
       "      <td>81546</td>\n",
       "      <td>40741168</td>\n",
       "      <td>IOS</td>\n",
       "      <td>2021-01-15</td>\n",
       "      <td>2021-02-01</td>\n",
       "      <td>51</td>\n",
       "      <td>32</td>\n",
       "      <td>5</td>\n",
       "    </tr>\n",
       "    <tr>\n",
       "      <th>81547</th>\n",
       "      <td>81547</td>\n",
       "      <td>40736310</td>\n",
       "      <td>ANDROID</td>\n",
       "      <td>2021-01-15</td>\n",
       "      <td>2021-02-01</td>\n",
       "      <td>0</td>\n",
       "      <td>32</td>\n",
       "      <td>5</td>\n",
       "    </tr>\n",
       "    <tr>\n",
       "      <th>81548</th>\n",
       "      <td>81548</td>\n",
       "      <td>40748682</td>\n",
       "      <td>ANDROID</td>\n",
       "      <td>2021-01-16</td>\n",
       "      <td>2021-02-01</td>\n",
       "      <td>0</td>\n",
       "      <td>32</td>\n",
       "      <td>5</td>\n",
       "    </tr>\n",
       "  </tbody>\n",
       "</table>\n",
       "<p>81549 rows × 8 columns</p>\n",
       "</div>"
      ],
      "text/plain": [
       "       Unnamed: 0   user_id platform install_date  bets_date  bets  \\\n",
       "0               0  41785284      IOS   2021-04-21 2021-04-13     2   \n",
       "1               1  41792465      IOS   2021-04-21 2021-04-13    29   \n",
       "2               2  41494466      IOS   2021-03-28 2021-01-04    28   \n",
       "3               3  41583452      IOS   2021-02-04 2021-01-04     9   \n",
       "4               4  41637532      IOS   2021-07-04 2021-01-04    16   \n",
       "...           ...       ...      ...          ...        ...   ...   \n",
       "81544       81544  40888496      IOS   2021-01-29 2021-07-02     2   \n",
       "81545       81545  41010128  ANDROID   2021-11-02 2021-07-02     0   \n",
       "81546       81546  40741168      IOS   2021-01-15 2021-02-01    51   \n",
       "81547       81547  40736310  ANDROID   2021-01-15 2021-02-01     0   \n",
       "81548       81548  40748682  ANDROID   2021-01-16 2021-02-01     0   \n",
       "\n",
       "       bets_dayofyear  bets_weekofyear  \n",
       "0                 103               15  \n",
       "1                 103               15  \n",
       "2                   4                1  \n",
       "3                   4                1  \n",
       "4                   4                1  \n",
       "...               ...              ...  \n",
       "81544             183               26  \n",
       "81545             183               26  \n",
       "81546              32                5  \n",
       "81547              32                5  \n",
       "81548              32                5  \n",
       "\n",
       "[81549 rows x 8 columns]"
      ]
     },
     "execution_count": 2,
     "metadata": {},
     "output_type": "execute_result"
    }
   ],
   "source": [
    "df = pd.read_csv('./test_task_data.csv', delimiter = ';')\n",
    "df['bets_date'] = pd.to_datetime(df['bets_date'])\n",
    "df['install_date'] = pd.to_datetime(df['install_date'])\n",
    "\n",
    "df['bets_dayofyear'] = df['bets_date'].dt.dayofyear\n",
    "df['bets_weekofyear'] = df['bets_date'].dt.isocalendar().week\n",
    "\n",
    "df"
   ]
  },
  {
   "cell_type": "markdown",
   "id": "621210b2",
   "metadata": {},
   "source": [
    "Сначала посмотрим, как меняется динамика бетов по дням"
   ]
  },
  {
   "cell_type": "code",
   "execution_count": 3,
   "id": "1e577ed3",
   "metadata": {},
   "outputs": [],
   "source": [
    "days = df.groupby(\"bets_dayofyear\")[[\"bets\"]].sum().sort_values(by=['bets_dayofyear'])\n",
    "days_index = np.linspace(1, 338, 338, dtype=int)\n",
    "days = days.reindex(days_index, fill_value=0)"
   ]
  },
  {
   "cell_type": "code",
   "execution_count": 4,
   "id": "314c9500",
   "metadata": {},
   "outputs": [
    {
     "data": {
      "image/png": "[encoded data removed]",
      "text/plain": [
       "<Figure size 1440x432 with 1 Axes>"
      ]
     },
     "metadata": {
      "needs_background": "light"
     },
     "output_type": "display_data"
    }
   ],
   "source": [
    "fig, ax = plt.subplots(figsize=(20,6), nrows=1, ncols=1)\n",
    "\n",
    "days.plot(ax=ax, kind = 'bar', fontsize=5, title='Bets by day')\n",
    "plt.show()"
   ]
  },
  {
   "cell_type": "markdown",
   "id": "0e560a32",
   "metadata": {},
   "source": [
    "Кол-во бетов примерно одинаковое с большими паузами. Рассмотрим теперь по неделям, в разрезе по платформам (вдруг есть зависимость)"
   ]
  },
  {
   "cell_type": "code",
   "execution_count": 5,
   "id": "31a1aec5",
   "metadata": {},
   "outputs": [],
   "source": [
    "weeks = df.groupby([\"bets_weekofyear\", \"platform\"])[[\"bets\"]].sum()\n",
    "weeks_index = pd.MultiIndex.from_product([np.linspace(1, 53, 53, dtype=int), weeks.index.levels[1]], names=weeks.index.names)\n",
    "weeks = weeks.reindex(weeks_index, fill_value=0)\n",
    "unique_platforms = weeks.index.unique(level='platform')\n",
    "weeks = weeks.reset_index(level=[\"platform\"])\n",
    "\n",
    "for platform in unique_platforms:\n",
    "    weeks['bets_{}'.format(platform)] = np.where(weeks['platform']==platform, weeks['bets'], 0)\n",
    "\n",
    "weeks = weeks.groupby([\"bets_weekofyear\"])[[\"bets_{}\".format(p) for p in unique_platforms]].sum()"
   ]
  },
  {
   "cell_type": "code",
   "execution_count": 6,
   "id": "13aab847",
   "metadata": {},
   "outputs": [
    {
     "data": {
      "image/png": "[encoded data removed]",
      "text/plain": [
       "<Figure size 1440x432 with 1 Axes>"
      ]
     },
     "metadata": {
      "needs_background": "light"
     },
     "output_type": "display_data"
    }
   ],
   "source": [
    "fig, ax = plt.subplots(figsize=(20,6), nrows=1, ncols=1)\n",
    "\n",
    "weeks.plot.bar(ax=ax, fontsize=9, stacked=True, title='Bets by week')\n",
    "plt.show()"
   ]
  },
  {
   "cell_type": "markdown",
   "id": "87980730",
   "metadata": {},
   "source": [
    "Зависимости от платформы нет, при этом нет и значимого изменения в бетах за последний месяц.\n",
    "\n",
    "Посмотрим теперь на среднее кол-во бетов по юзерам, при этом мы знаем, что релевантное обновление было две недели назад"
   ]
  },
  {
   "cell_type": "code",
   "execution_count": 7,
   "id": "e3b0c856",
   "metadata": {},
   "outputs": [
    {
     "data": {
      "text/plain": [
       "Timestamp('2021-12-04 00:00:00')"
      ]
     },
     "execution_count": 7,
     "metadata": {},
     "output_type": "execute_result"
    }
   ],
   "source": [
    "max(df['bets_date'])"
   ]
  },
  {
   "cell_type": "markdown",
   "id": "71deda32",
   "metadata": {},
   "source": [
    "Последняя дата ставки -- 4 Дек 21, значит с запасом берём время обновления как 18 Ноя 21"
   ]
  },
  {
   "cell_type": "code",
   "execution_count": 20,
   "id": "3beb0a0e",
   "metadata": {},
   "outputs": [],
   "source": [
    "nov = df[df['install_date'] >= '2021-11-18']\n",
    "nov_after = nov[nov['bets_date'] >= nov['install_date']]\n",
    "nov_before = nov[nov['bets_date'] < nov['install_date']]\n",
    "\n",
    "nov_after = nov_after.groupby([\"user_id\", \"platform\"])[[\"bets\"]].mean()\n",
    "nov_before = nov_before.groupby([\"user_id\", \"platform\"])[[\"bets\"]].mean()"
   ]
  },
  {
   "cell_type": "code",
   "execution_count": 12,
   "id": "672a25d3",
   "metadata": {},
   "outputs": [
    {
     "data": {
      "text/html": [
       "<div>\n",
       "<style scoped>\n",
       "    .dataframe tbody tr th:only-of-type {\n",
       "        vertical-align: middle;\n",
       "    }\n",
       "\n",
       "    .dataframe tbody tr th {\n",
       "        vertical-align: top;\n",
       "    }\n",
       "\n",
       "    .dataframe thead th {\n",
       "        text-align: right;\n",
       "    }\n",
       "</style>\n",
       "<table border=\"1\" class=\"dataframe\">\n",
       "  <thead>\n",
       "    <tr style=\"text-align: right;\">\n",
       "      <th></th>\n",
       "      <th>avg_bets_change</th>\n",
       "    </tr>\n",
       "    <tr>\n",
       "      <th>platform</th>\n",
       "      <th></th>\n",
       "    </tr>\n",
       "  </thead>\n",
       "  <tbody>\n",
       "    <tr>\n",
       "      <th>ANDROID</th>\n",
       "      <td>3.477665</td>\n",
       "    </tr>\n",
       "    <tr>\n",
       "      <th>IOS</th>\n",
       "      <td>0.215729</td>\n",
       "    </tr>\n",
       "  </tbody>\n",
       "</table>\n",
       "</div>"
      ],
      "text/plain": [
       "          avg_bets_change\n",
       "platform                 \n",
       "ANDROID          3.477665\n",
       "IOS              0.215729"
      ]
     },
     "execution_count": 12,
     "metadata": {},
     "output_type": "execute_result"
    }
   ],
   "source": [
    "nov = nov_after.merge(nov_before, how='inner', on=['user_id', 'platform'], suffixes=('_after', '_before'))\n",
    "nov['avg_bets_change'] = nov['bets_after'] - nov['bets_before']\n",
    "nov['is_change_positive'] = np.where(nov['avg_bets_change'] > 0, True, False)\n",
    "\n",
    "nov.groupby([\"platform\"])[[\"avg_bets_change\"]].mean()"
   ]
  },
  {
   "cell_type": "markdown",
   "id": "f8f9a648",
   "metadata": {},
   "source": [
    "Для выборки юзеров, которые обновили продукт две недели назад или позже, среднее изменение кол-ва бетов не значимо"
   ]
  },
  {
   "cell_type": "code",
   "execution_count": 18,
   "id": "72a5c550",
   "metadata": {},
   "outputs": [
    {
     "data": {
      "text/html": [
       "<div>\n",
       "<style scoped>\n",
       "    .dataframe tbody tr th:only-of-type {\n",
       "        vertical-align: middle;\n",
       "    }\n",
       "\n",
       "    .dataframe tbody tr th {\n",
       "        vertical-align: top;\n",
       "    }\n",
       "\n",
       "    .dataframe thead th {\n",
       "        text-align: right;\n",
       "    }\n",
       "</style>\n",
       "<table border=\"1\" class=\"dataframe\">\n",
       "  <thead>\n",
       "    <tr style=\"text-align: right;\">\n",
       "      <th></th>\n",
       "      <th></th>\n",
       "      <th>user_id</th>\n",
       "    </tr>\n",
       "    <tr>\n",
       "      <th>platform</th>\n",
       "      <th>is_change_positive</th>\n",
       "      <th></th>\n",
       "    </tr>\n",
       "  </thead>\n",
       "  <tbody>\n",
       "    <tr>\n",
       "      <th rowspan=\"2\" valign=\"top\">ANDROID</th>\n",
       "      <th>False</th>\n",
       "      <td>19</td>\n",
       "    </tr>\n",
       "    <tr>\n",
       "      <th>True</th>\n",
       "      <td>18</td>\n",
       "    </tr>\n",
       "    <tr>\n",
       "      <th rowspan=\"2\" valign=\"top\">IOS</th>\n",
       "      <th>False</th>\n",
       "      <td>18</td>\n",
       "    </tr>\n",
       "    <tr>\n",
       "      <th>True</th>\n",
       "      <td>18</td>\n",
       "    </tr>\n",
       "  </tbody>\n",
       "</table>\n",
       "</div>"
      ],
      "text/plain": [
       "                             user_id\n",
       "platform is_change_positive         \n",
       "ANDROID  False                    19\n",
       "         True                     18\n",
       "IOS      False                    18\n",
       "         True                     18"
      ]
     },
     "execution_count": 18,
     "metadata": {},
     "output_type": "execute_result"
    }
   ],
   "source": [
    "nov = nov.reset_index(level=[\"user_id\"])\n",
    "nov.groupby([\"platform\", \"is_change_positive\"])[[\"user_id\"]].count()"
   ]
  },
  {
   "cell_type": "markdown",
   "id": "b04de74f",
   "metadata": {},
   "source": [
    "По кол-ву всё так же одинаково.\n",
    "\n",
    "Вывод: обновление не помогло, думаем дальше =)"
   ]
  },
  {
   "cell_type": "code",
   "execution_count": null,
   "id": "c833fa7f",
   "metadata": {},
   "outputs": [],
   "source": []
  }
 ],
 "metadata": {
  "kernelspec": {
   "display_name": "Python 3 (ipykernel)",
   "language": "python",
   "name": "python3"
  },
  "language_info": {
   "codemirror_mode": {
    "name": "ipython",
    "version": 3
   },
   "file_extension": ".py",
   "mimetype": "text/x-python",
   "name": "python",
   "nbconvert_exporter": "python",
   "pygments_lexer": "ipython3",
   "version": "3.9.7"
  }
 },
 "nbformat": 4,
 "nbformat_minor": 5
}
